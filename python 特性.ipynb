{
 "cells": [
  {
   "cell_type": "code",
   "execution_count": 8,
   "metadata": {
    "collapsed": false
   },
   "outputs": [
    {
     "name": "stdout",
     "output_type": "stream",
     "text": [
      "[]\n",
      "['b class']\n"
     ]
    }
   ],
   "source": [
    "class Test(object):\n",
    "    def __init__(self, ops):\n",
    "        self.ops = ops\n",
    "    def test_func(self, ops):\n",
    "        ops.append(\"nihao\")\n",
    "class BTest(object):\n",
    "    def __init__(self):\n",
    "        pass\n",
    "    def test_b(self, ops):\n",
    "        ops.append(\"b class\")\n",
    "a = Test([])\n",
    "b = BTest()\n",
    "print a.ops\n",
    "b.test_b(a.ops)\n",
    "print a.ops"
   ]
  },
  {
   "cell_type": "code",
   "execution_count": 14,
   "metadata": {
    "collapsed": false
   },
   "outputs": [
    {
     "name": "stdout",
     "output_type": "stream",
     "text": [
      "1\n",
      "2\n",
      "3\n",
      "5\n",
      "6\n",
      "1\n",
      "2\n",
      "3\n",
      "None\n",
      "None\n",
      "None\n"
     ]
    }
   ],
   "source": [
    "class MyTest(object):\n",
    "    def __init__(self, **kwargs):\n",
    "        for i in kwargs:\n",
    "            print i\n",
    "            \n",
    "\n",
    "def is_all_arg_not_none(*args):\n",
    "    result = True\n",
    "    for one_arg in args:\n",
    "        print one_arg\n",
    "        if one_arg is None:\n",
    "            result = False\n",
    "            break\n",
    "    return result\n",
    "assert all_arg(1, 2, 3, 5, 6) == True\n",
    "assert all_arg(1, 2, 3, None, 5, 6) == False\n",
    "assert all_arg(None, 2, 3, None, 5, 6) == False\n",
    "assert all_arg(None) == False"
   ]
  },
  {
   "cell_type": "code",
   "execution_count": 61,
   "metadata": {
    "collapsed": false
   },
   "outputs": [
    {
     "name": "stdout",
     "output_type": "stream",
     "text": [
      "None None\n",
      "<type 'NoneType'> None\n",
      "[]\n"
     ]
    }
   ],
   "source": [
    "def get_values_from_dict(target_dict, *args):\n",
    "    args_count = len(args)\n",
    "    if not isinstance(target_dict, dict):\n",
    "        return [None for _ in xrange(args_count)]\n",
    "    args_count = len(args)\n",
    "    result = []\n",
    "    for one_arg in args:\n",
    "        if one_arg in target_dict:\n",
    "            result.append(target_dict[one_arg])\n",
    "    return result\n",
    "a, b = get_values_from_dict(None, \"fff\", \"rrr\")\n",
    "# a = get_values_from_dict({\"fff\":\"eee\", \"rrr\":\"rw\"}, \"fff\", \"rrr\")\n",
    "print a, b\n",
    "# print a, b, c\n",
    "print type(a), a\n",
    "# assert isinstance(a, set)\n",
    "\n",
    "print get_values_from_dict({\"fff\":\"eee\", \"rrr\":\"rw\"}, None, None)"
   ]
  },
  {
   "cell_type": "code",
   "execution_count": null,
   "metadata": {
    "collapsed": true
   },
   "outputs": [],
   "source": []
  },
  {
   "cell_type": "code",
   "execution_count": 50,
   "metadata": {
    "collapsed": false
   },
   "outputs": [
    {
     "name": "stdout",
     "output_type": "stream",
     "text": [
      "<generator object <genexpr> at 0x7f5a0c0f03c0>\n",
      "0\n"
     ]
    }
   ],
   "source": [
    "print (None for x in xrange(2))\n",
    "print len(())"
   ]
  },
  {
   "cell_type": "code",
   "execution_count": null,
   "metadata": {
    "collapsed": true
   },
   "outputs": [],
   "source": []
  }
 ],
 "metadata": {
  "kernelspec": {
   "display_name": "Python 2",
   "language": "python",
   "name": "python2"
  },
  "language_info": {
   "codemirror_mode": {
    "name": "ipython",
    "version": 2
   },
   "file_extension": ".py",
   "mimetype": "text/x-python",
   "name": "python",
   "nbconvert_exporter": "python",
   "pygments_lexer": "ipython2",
   "version": "2.7.10"
  }
 },
 "nbformat": 4,
 "nbformat_minor": 1
}
