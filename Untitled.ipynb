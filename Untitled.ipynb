{
 "cells": [
  {
   "cell_type": "code",
   "execution_count": 5,
   "metadata": {
    "collapsed": false
   },
   "outputs": [
    {
     "name": "stdout",
     "output_type": "stream",
     "text": [
      "ff\n"
     ]
    }
   ],
   "source": [
    "class Student(object):\n",
    "\n",
    "    def __init__(self, name, score):\n",
    "        self.name = name\n",
    "        self.score = score\n",
    "\n",
    "    def print_score(self):\n",
    "        print '%s: %s' % (self.name, self.score)\n",
    "        \n",
    "a = Student(\"ff\", \"er\")\n",
    "print a.name"
   ]
  },
  {
   "cell_type": "code",
   "execution_count": 7,
   "metadata": {
    "collapsed": false
   },
   "outputs": [
    {
     "name": "stdout",
     "output_type": "stream",
     "text": [
      "0 7\n",
      "0 3\n",
      "2 3\n",
      "2\n"
     ]
    }
   ],
   "source": [
    "def binarySearch(l, t):\n",
    "    low, high = 0, len(l) - 1\n",
    "    while low < high:\n",
    "        print low, high\n",
    "        mid = (low + high) / 2\n",
    "        if l[mid] > t:\n",
    "            high = mid\n",
    "        elif l[mid] < t:\n",
    "            low = mid + 1\n",
    "        else:\n",
    "            return mid\n",
    "    return low if l[low] == t else False\n",
    " \n",
    "\n",
    "l = [1, 4, 12, 45, 66, 99, 120, 444]\n",
    "print binarySearch(l, 12)\n",
    "# print binarySearch(l, 1)\n",
    "# print binarySearch(l, 13)\n",
    "# print binarySearch(l, 444)"
   ]
  },
  {
   "cell_type": "code",
   "execution_count": 11,
   "metadata": {
    "collapsed": false
   },
   "outputs": [
    {
     "name": "stdout",
     "output_type": "stream",
     "text": [
      "{'y': -1, 'x': -1}\n"
     ]
    }
   ],
   "source": [
    "dict1={}.fromkeys(('x','y'),-1)\n",
    "print dict1"
   ]
  },
  {
   "cell_type": "code",
   "execution_count": null,
   "metadata": {
    "collapsed": true
   },
   "outputs": [],
   "source": []
  }
 ],
 "metadata": {
  "kernelspec": {
   "display_name": "Python 2",
   "language": "python",
   "name": "python2"
  },
  "language_info": {
   "codemirror_mode": {
    "name": "ipython",
    "version": 2
   },
   "file_extension": ".py",
   "mimetype": "text/x-python",
   "name": "python",
   "nbconvert_exporter": "python",
   "pygments_lexer": "ipython2",
   "version": "2.7.10"
  }
 },
 "nbformat": 4,
 "nbformat_minor": 1
}
