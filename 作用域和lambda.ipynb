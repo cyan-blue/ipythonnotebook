{
 "cells": [
  {
   "cell_type": "code",
   "execution_count": 3,
   "metadata": {
    "collapsed": false
   },
   "outputs": [
    {
     "name": "stdout",
     "output_type": "stream",
     "text": [
      "zlz\n"
     ]
    }
   ],
   "source": [
    "name = 'zlz'\n",
    "def f1():\n",
    "    print name\n",
    "def f2():\n",
    "    name = 'eee'\n",
    "    return f1\n",
    "ret = f2()\n",
    "ret()"
   ]
  },
  {
   "cell_type": "code",
   "execution_count": 14,
   "metadata": {
    "collapsed": false
   },
   "outputs": [
    {
     "name": "stdout",
     "output_type": "stream",
     "text": [
      "[<function <lambda> at 0x7f6a24359050>, <function <lambda> at 0x7f6a243595f0>, <function <lambda> at 0x7f6a24359140>, <function <lambda> at 0x7f6a243591b8>, <function <lambda> at 0x7f6a24359230>, <function <lambda> at 0x7f6a243592a8>, <function <lambda> at 0x7f6a24359320>, <function <lambda> at 0x7f6a24359938>, <function <lambda> at 0x7f6a243599b0>, <function <lambda> at 0x7f6a24359a28>]\n",
      "9\n"
     ]
    }
   ],
   "source": [
    "li = [lambda :x for x in range(10)]\n",
    "res = li[7]()\n",
    "print li\n",
    "print li[8]()"
   ]
  },
  {
   "cell_type": "code",
   "execution_count": null,
   "metadata": {
    "collapsed": true
   },
   "outputs": [],
   "source": []
  },
  {
   "cell_type": "code",
   "execution_count": null,
   "metadata": {
    "collapsed": true
   },
   "outputs": [],
   "source": []
  },
  {
   "cell_type": "code",
   "execution_count": null,
   "metadata": {
    "collapsed": true
   },
   "outputs": [],
   "source": []
  }
 ],
 "metadata": {
  "kernelspec": {
   "display_name": "Python 2",
   "language": "python",
   "name": "python2"
  },
  "language_info": {
   "codemirror_mode": {
    "name": "ipython",
    "version": 2
   },
   "file_extension": ".py",
   "mimetype": "text/x-python",
   "name": "python",
   "nbconvert_exporter": "python",
   "pygments_lexer": "ipython2",
   "version": "2.7.10"
  }
 },
 "nbformat": 4,
 "nbformat_minor": 1
}
