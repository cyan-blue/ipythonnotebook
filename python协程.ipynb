{
 "cells": [
  {
   "cell_type": "code",
   "execution_count": 36,
   "metadata": {
    "collapsed": false
   },
   "outputs": [
    {
     "name": "stdout",
     "output_type": "stream",
     "text": [
      "['__class__', '__delattr__', '__doc__', '__format__', '__getattribute__', '__hash__', '__init__', '__iter__', '__name__', '__new__', '__reduce__', '__reduce_ex__', '__repr__', '__setattr__', '__sizeof__', '__str__', '__subclasshook__', 'close', 'gi_code', 'gi_frame', 'gi_running', 'next', 'send', 'throw']\n",
      "test \n",
      "[CONSUMER] Consuming 1...\n",
      "test 200 OK\n",
      "[CONSUMER] Consuming 2...\n",
      "test 200 OK\n"
     ]
    },
    {
     "data": {
      "text/plain": [
       "'200 OK'"
      ]
     },
     "execution_count": 36,
     "metadata": {},
     "output_type": "execute_result"
    }
   ],
   "source": [
    "#coding=utf-8\n",
    "import time\n",
    "\n",
    "def consumer():\n",
    "    r = ''\n",
    "    while True:\n",
    "        print \"test\",r\n",
    "        n = yield r\n",
    "        if not n:\n",
    "            print \"over\"\n",
    "            return\n",
    "        print('[CONSUMER] Consuming %s...' % n)\n",
    "        time.sleep(1)\n",
    "        r = '200 OK'\n",
    "\n",
    "def produce(c):\n",
    "    c.next()\n",
    "    n = 0\n",
    "    while n < 5:\n",
    "        n = n + 1\n",
    "        print('[PRODUCER] Producing %s...' % n)\n",
    "        r = c.send(n)\n",
    "        print('[PRODUCER] Consumer return: %s' % r)\n",
    "    c.close()\n",
    "\n",
    "\n",
    "c = consumer()\n",
    "print dir(c)\n",
    "c.send(None)\n",
    "c.send(1)\n",
    "c.send(2)\n",
    "# produce(c)"
   ]
  },
  {
   "cell_type": "code",
   "execution_count": 21,
   "metadata": {
    "collapsed": false
   },
   "outputs": [
    {
     "name": "stdout",
     "output_type": "stream",
     "text": [
      "begin\n",
      "Got 1\n",
      "begin\n",
      "Got 3\n",
      "begin\n"
     ]
    }
   ],
   "source": [
    "def reciver():\n",
    "    while True:\n",
    "        print \"begin\"\n",
    "        n = yield\n",
    "        print \"Got %s\" % n\n",
    "\n",
    "r = reciver()\n",
    "r.next()\n",
    "r.send(1)\n",
    "r.send('3')"
   ]
  },
  {
   "cell_type": "code",
   "execution_count": 14,
   "metadata": {
    "collapsed": false
   },
   "outputs": [],
   "source": [
    "#输入输出\n",
    "def get():\n",
    "    n = 0\n",
    "    result = None\n",
    "    while True:\n",
    "        n = yield result\n",
    "        print \"ffff\"\n",
    "        result = n*10\n",
    "        \n",
    "t = get()\n",
    "t.next()\n",
    "# for i in range(10):\n",
    "#     print t.send(str(i))\n",
    "t.close()"
   ]
  },
  {
   "cell_type": "code",
   "execution_count": 15,
   "metadata": {
    "collapsed": false
   },
   "outputs": [
    {
     "name": "stdout",
     "output_type": "stream",
     "text": [
      "Got 1\n",
      "Got 2\n"
     ]
    }
   ],
   "source": [
    "def coroutine(func):\n",
    "    def start(*args,**kwargs):\n",
    "        g = func(*args,**kwargs)\n",
    "        g.next()\n",
    "        return g\n",
    "    return start\n",
    "\n",
    "@coroutine\n",
    "def reciver():\n",
    "    while True:\n",
    "        n = (yield)\n",
    "        print \"Got %s\" % n\n",
    "\n",
    "r = reciver()\n",
    "r.send(1)\n",
    "r.send('2')"
   ]
  },
  {
   "cell_type": "code",
   "execution_count": 17,
   "metadata": {
    "collapsed": false
   },
   "outputs": [
    {
     "name": "stdout",
     "output_type": "stream",
     "text": [
      "counting down from 10\n",
      "10\n",
      "9\n",
      "counting down from 10\n",
      "10\n",
      "9\n",
      "8\n",
      "7\n",
      "6\n",
      "5\n",
      "4\n",
      "3\n",
      "2\n",
      "1\n",
      "counting down from 10\n",
      "55\n"
     ]
    }
   ],
   "source": [
    "def countdown(n):\n",
    "    print(\"counting down from %d\" % n)\n",
    "    while n > 0:\n",
    "        yield n\n",
    "        n -= 1\n",
    "    return \n",
    "\n",
    "c = countdown(10)\n",
    "print c.next()\n",
    "print c.next()\n",
    "\n",
    "for i in countdown(10):\n",
    "    print i\n",
    "\n",
    "print sum(countdown(10))"
   ]
  },
  {
   "cell_type": "code",
   "execution_count": 38,
   "metadata": {
    "collapsed": false
   },
   "outputs": [
    {
     "name": "stdout",
     "output_type": "stream",
     "text": [
      "[(1, 2, 3, 4), (1, 2, 4, 3), (1, 3, 2, 4), (1, 3, 4, 2), (1, 4, 2, 3), (1, 4, 3, 2), (2, 1, 3, 4), (2, 1, 4, 3), (2, 3, 1, 4), (2, 3, 4, 1), (2, 4, 1, 3), (2, 4, 3, 1), (3, 1, 2, 4), (3, 1, 4, 2), (3, 2, 1, 4), (3, 2, 4, 1), (3, 4, 1, 2), (3, 4, 2, 1), (4, 1, 2, 3), (4, 1, 3, 2), (4, 2, 1, 3), (4, 2, 3, 1), (4, 3, 1, 2), (4, 3, 2, 1)]\n"
     ]
    }
   ],
   "source": [
    "import itertools\n",
    "horses = [1, 2, 3, 4]\n",
    "races = itertools.permutations(horses)\n",
    "print(list(itertools.permutations(horses)))"
   ]
  },
  {
   "cell_type": "code",
   "execution_count": null,
   "metadata": {
    "collapsed": false
   },
   "outputs": [],
   "source": [
    "from gevent import monkey; monkey.patch_all()\n",
    "import gevent\n",
    "import urllib2\n",
    "\n",
    "def f(url):\n",
    "    print('GET: %s' % url)\n",
    "    resp = urllib2.urlopen(url)\n",
    "    data = resp.read()\n",
    "    print('%d bytes received from %s.' % (len(data), url))\n",
    "\n",
    "gevent.joinall([\n",
    "        gevent.spawn(f, 'https://www.python.org/'),\n",
    "        gevent.spawn(f, 'https://www.yahoo.com/'),\n",
    "        gevent.spawn(f, 'https://github.com/'),\n",
    "])"
   ]
  },
  {
   "cell_type": "code",
   "execution_count": null,
   "metadata": {
    "collapsed": true
   },
   "outputs": [],
   "source": []
  }
 ],
 "metadata": {
  "kernelspec": {
   "display_name": "Python 2",
   "language": "python",
   "name": "python2"
  },
  "language_info": {
   "codemirror_mode": {
    "name": "ipython",
    "version": 2
   },
   "file_extension": ".py",
   "mimetype": "text/x-python",
   "name": "python",
   "nbconvert_exporter": "python",
   "pygments_lexer": "ipython2",
   "version": "2.7.10"
  }
 },
 "nbformat": 4,
 "nbformat_minor": 1
}
