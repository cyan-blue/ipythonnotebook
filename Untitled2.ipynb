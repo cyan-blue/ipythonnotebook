{
 "cells": [
  {
   "cell_type": "code",
   "execution_count": 10,
   "metadata": {
    "collapsed": false
   },
   "outputs": [
    {
     "name": "stdout",
     "output_type": "stream",
     "text": [
      "calling __init__ of Singleton class <class '__main__.A'>\n",
      "args:  ('A', (<type 'object'>,), {'__module__': '__main__', '__metaclass__': <class '__main__.Singleton'>, '__init__': <function __init__ at 0x7f5a43667500>})\n",
      "kwargs:  {}\n",
      "running __call__ of Singleton <class '__main__.A'>\n",
      "args:  (10,)\n",
      "kwargs:  {} \n",
      "\n",
      "\n",
      "in __init__ of A:   <__main__.A object at 0x7f5a436b4fd0>\n",
      "self.a:  10\n",
      "aaaaa\n",
      "running __call__ of Singleton <class '__main__.A'>\n",
      "args:  (20,)\n",
      "kwargs:  {} \n",
      "\n",
      "\n",
      "ffff\n",
      "running __call__ of Singleton <class '__main__.A'>\n",
      "args:  (30,)\n",
      "kwargs:  {} \n",
      "\n",
      "\n",
      "eeee\n",
      "10\n"
     ]
    }
   ],
   "source": [
    "class Singleton(type):\n",
    "    def __init__(self, *args, **kwargs):\n",
    "        print 'calling __init__ of Singleton class', self\n",
    "        print 'args: ', args\n",
    "        print 'kwargs: ', kwargs\n",
    "        super(Singleton, self).__init__(*args, **kwargs)\n",
    "        self.__instance = None\n",
    "    def __call__(self, *args, **kwargs):\n",
    "        print 'running __call__ of Singleton', self\n",
    "        print 'args: ', args\n",
    "        print 'kwargs: ', kwargs, '\\n\\n'\n",
    "        if self.__instance is None:\n",
    "            self.__instance = super(Singleton, self).__call__(*args, **kwargs)\n",
    "        return self.__instance\n",
    "\n",
    "class A(object):\n",
    "    __metaclass__ = Singleton\n",
    "    def __init__(self,a):\n",
    "        print 'in __init__ of A:  ', self\n",
    "        self.a = a\n",
    "        print 'self.a: ', self.a\n",
    "\n",
    "a=A(10)\n",
    "print \"aaaaa\"\n",
    "b=A(20)\n",
    "print \"ffff\"\n",
    "c=A(30)\n",
    "print \"eeee\"\n",
    "print c.a"
   ]
  },
  {
   "cell_type": "code",
   "execution_count": null,
   "metadata": {
    "collapsed": true
   },
   "outputs": [],
   "source": []
  }
 ],
 "metadata": {
  "kernelspec": {
   "display_name": "Python 2",
   "language": "python",
   "name": "python2"
  },
  "language_info": {
   "codemirror_mode": {
    "name": "ipython",
    "version": 2
   },
   "file_extension": ".py",
   "mimetype": "text/x-python",
   "name": "python",
   "nbconvert_exporter": "python",
   "pygments_lexer": "ipython2",
   "version": "2.7.10"
  }
 },
 "nbformat": 4,
 "nbformat_minor": 1
}
