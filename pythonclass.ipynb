{
 "metadata": {
  "name": "",
  "signature": "sha256:69919bdf5c5c7323c9a18428382b6a8f0ff2d90d0815f0d44b1a9cfcb63b38ca"
 },
 "nbformat": 3,
 "nbformat_minor": 0,
 "worksheets": [
  {
   "cells": [
    {
     "cell_type": "code",
     "collapsed": false,
     "input": [
      "class AAA():\n",
      "    aaa = 10"
     ],
     "language": "python",
     "metadata": {},
     "outputs": [],
     "prompt_number": 1
    },
    {
     "cell_type": "code",
     "collapsed": false,
     "input": [
      "# case1\n",
      "obj1 = AAA()\n",
      "obj2 = AAA()\n",
      "print obj1.aaa, obj2.aaa, AAA.aaa"
     ],
     "language": "python",
     "metadata": {},
     "outputs": [
      {
       "output_type": "stream",
       "stream": "stdout",
       "text": [
        "10 10 10\n"
       ]
      }
     ],
     "prompt_number": 2
    },
    {
     "cell_type": "code",
     "collapsed": false,
     "input": [
      "#case2\n",
      "obj1.aaa += 2\n",
      "print obj1.aaa,id(obj1.aaa), obj2.aaa,id(obj2.aaa), AAA.aaa,id(AAA.aaa)"
     ],
     "language": "python",
     "metadata": {},
     "outputs": [
      {
       "output_type": "stream",
       "stream": "stdout",
       "text": [
        "12 17711248 10 17711296 10 17711296\n"
       ]
      }
     ],
     "prompt_number": 3
    },
    {
     "cell_type": "code",
     "collapsed": false,
     "input": [
      "#case3\n",
      "AAA.aaa += 3\n",
      "print obj1.aaa,id(obj1.aaa), obj2.aaa,id(obj2.aaa), AAA.aaa,id(AAA.aaa)"
     ],
     "language": "python",
     "metadata": {},
     "outputs": [
      {
       "output_type": "stream",
       "stream": "stdout",
       "text": [
        "12 17711248 13 17711224 13 17711224\n"
       ]
      }
     ],
     "prompt_number": 4
    },
    {
     "cell_type": "code",
     "collapsed": false,
     "input": [
      "print dir(obj2),dir(obj1),dir(AAA)"
     ],
     "language": "python",
     "metadata": {},
     "outputs": [
      {
       "output_type": "stream",
       "stream": "stdout",
       "text": [
        "['__doc__', '__module__', 'aaa'] ['__doc__', '__module__', 'aaa'] ['__doc__', '__module__', 'aaa']\n"
       ]
      }
     ],
     "prompt_number": 7
    },
    {
     "cell_type": "code",
     "collapsed": false,
     "input": [
      "print obj1.__dict__, obj2.__dict__"
     ],
     "language": "python",
     "metadata": {},
     "outputs": [
      {
       "output_type": "stream",
       "stream": "stdout",
       "text": [
        "{'aaa': 12} {}\n"
       ]
      }
     ],
     "prompt_number": 9
    },
    {
     "cell_type": "code",
     "collapsed": false,
     "input": [],
     "language": "python",
     "metadata": {},
     "outputs": []
    }
   ],
   "metadata": {}
  }
 ]
}