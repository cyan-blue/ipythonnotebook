{
 "cells": [
  {
   "cell_type": "code",
   "execution_count": 20,
   "metadata": {
    "collapsed": false
   },
   "outputs": [
    {
     "name": "stdout",
     "output_type": "stream",
     "text": [
      "[(datetime.datetime(2016, 10, 9, 0, 0), datetime.datetime(2016, 10, 16, 0, 0)), (datetime.datetime(2016, 10, 16, 0, 0), datetime.datetime(2016, 10, 23, 0, 0)), (datetime.datetime(2016, 10, 23, 0, 0), datetime.datetime(2016, 10, 30, 0, 0)), (datetime.datetime(2016, 10, 30, 0, 0), datetime.datetime(2016, 11, 6, 0, 0)), (datetime.datetime(2016, 11, 6, 0, 0), datetime.datetime(2016, 11, 13, 0, 0)), (datetime.datetime(2016, 11, 13, 0, 0), datetime.datetime(2016, 11, 20, 0, 0)), (datetime.datetime(2016, 11, 20, 0, 0), datetime.datetime(2016, 11, 27, 0, 0)), (datetime.datetime(2016, 11, 27, 0, 0), datetime.datetime(2016, 12, 4, 0, 0)), (datetime.datetime(2016, 12, 4, 0, 0), datetime.datetime(2016, 12, 11, 0, 0)), (datetime.datetime(2016, 12, 11, 0, 0), datetime.datetime(2016, 12, 18, 0, 0)), (datetime.datetime(2016, 12, 18, 0, 0), datetime.datetime(2016, 12, 25, 0, 0))]\n"
     ]
    }
   ],
   "source": [
    "from datetime import datetime, timedelta\n",
    "def shijian(start_time, end_time):\n",
    "    if start_time > end_time:\n",
    "        return\n",
    "    start_weekday = start_time.isoweekday()\n",
    "    if start_weekday != 7:\n",
    "        local_start = start_time.replace(hour=0, minute=0, second=0) + timedelta(days=-start_weekday)\n",
    "    else:\n",
    "        local_start = start_time.replace(hour=0, minute=0, second=0)\n",
    "    result = []\n",
    "    count = 0\n",
    "    while local_start < end_time:\n",
    "        count += 1\n",
    "        temp_end = local_start + timedelta(days=7)\n",
    "        result.append((local_start, temp_end))\n",
    "        local_start = temp_end\n",
    "        if count > 10:\n",
    "            break\n",
    "    return result\n",
    "a = datetime(2016, 10, 9)\n",
    "b = datetime(2016, 12, 19)\n",
    "print shijian(a, b)\n",
    "    "
   ]
  },
  {
   "cell_type": "code",
   "execution_count": 31,
   "metadata": {
    "collapsed": false
   },
   "outputs": [
    {
     "data": {
      "text/plain": [
       "'2016_10_9-2016_12_19'"
      ]
     },
     "execution_count": 31,
     "metadata": {},
     "output_type": "execute_result"
    }
   ],
   "source": [
    "def get_tag(start_time, end_time):\n",
    "    return str(start_time.year)+\"_\"+str(start_time.month)+\"_\"+str(start_time.day)+\"-\"+str(end_time.year)+\"_\"+str(end_time.month)+\"_\"+str(end_time.day)\n",
    "a = datetime(2016, 10, 9)\n",
    "b = datetime(2016, 12, 19)\n",
    "get_tag(a, b)"
   ]
  },
  {
   "cell_type": "code",
   "execution_count": null,
   "metadata": {
    "collapsed": true
   },
   "outputs": [],
   "source": []
  }
 ],
 "metadata": {
  "kernelspec": {
   "display_name": "Python 2",
   "language": "python",
   "name": "python2"
  },
  "language_info": {
   "codemirror_mode": {
    "name": "ipython",
    "version": 2
   },
   "file_extension": ".py",
   "mimetype": "text/x-python",
   "name": "python",
   "nbconvert_exporter": "python",
   "pygments_lexer": "ipython2",
   "version": "2.7.10"
  }
 },
 "nbformat": 4,
 "nbformat_minor": 1
}
